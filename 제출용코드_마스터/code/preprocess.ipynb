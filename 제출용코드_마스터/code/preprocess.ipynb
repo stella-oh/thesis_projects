{
 "cells": [
  {
   "cell_type": "code",
   "execution_count": 23,
   "metadata": {},
   "outputs": [],
   "source": [
    "import pandas as pd \n",
    "import numpy as np\n",
    "import json\n",
    "import base64\n",
    "import swifter\n",
    "from tqdm import tqdm\n",
    "import csv\n",
    "import pickle\n",
    "from sklearn.externals import joblib\n",
    "import gc\n",
    "from time import sleep"
   ]
  },
  {
   "cell_type": "code",
   "execution_count": 24,
   "metadata": {},
   "outputs": [],
   "source": [
    "TRAIN_PATH = '../data/train/train.tsv'\n",
    "VAL_PATH = '../data/valid/valid.tsv'\n",
    "VAL_ANS_PATH = '../data/valid_answer.json'\n",
    "SAMPLE_PATH = '../data/valid/train.sample.tsv'\n",
    "LABEL_PATH = '../data/multimodal_labels.txt'\n",
    "TEST_PATH = '../data/testA/testA.tsv'"
   ]
  },
  {
   "cell_type": "code",
   "execution_count": 25,
   "metadata": {},
   "outputs": [],
   "source": [
    "def get_label(path):\n",
    "    with open(path) as f:\n",
    "        lines = f.readlines()\n",
    "        label2id = {l.split('\\n')[0].split('\\t')[1]:int(l.split('\\n')[0].split('\\t')[0]) for l in lines[1:]}\n",
    "        id2label = {int(l.split('\\n')[0].split('\\t')[0]):l.split('\\n')[0].split('\\t')[1] for l in lines[1:]}\n",
    "    return label2id, id2label"
   ]
  },
  {
   "cell_type": "code",
   "execution_count": 26,
   "metadata": {},
   "outputs": [],
   "source": [
    "label2id, id2label = get_label(LABEL_PATH)"
   ]
  },
  {
   "cell_type": "code",
   "execution_count": 27,
   "metadata": {},
   "outputs": [
    {
     "name": "stdout",
     "output_type": "stream",
     "text": [
      "{0: 'top clothes (coat, jacket, shirt, etc.)', 1: 'skirt & dress', 2: 'bottom clothes (trousers, pants, etc.)', 3: 'luggage, leather goods', 4: 'shoes', 5: 'accessories (jewelry, clothing accessories, belts, hats, scarves, etc.)', 6: 'snacks, nuts, liquor and tea', 7: 'makeup, perfume, beauty tools and essential oils', 8: 'bottle drink', 9: 'furniture', 10: 'stationery', 11: 'household electrical appliances', 12: 'home decoration', 13: 'household fabric', 14: 'kitchenware', 15: 'home / personal cleaning tools', 16: 'storage supplies', 17: 'motorcycle, motorcycle accessories, vehicles, bicycle and riding equipment', 18: 'outdoor product', 19: 'lighting', 20: 'toys', 21: 'underwear', 22: 'digital supplies', 23: 'bed linens', 24: 'baby products', 25: 'personal care', 26: 'sporting goods', 27: 'clothes (accessories, baby clothing, etc.)', 28: 'others', 29: 'human face', 30: 'arm', 31: 'hair', 32: 'hand'} {'top clothes (coat, jacket, shirt, etc.)': 0, 'skirt & dress': 1, 'bottom clothes (trousers, pants, etc.)': 2, 'luggage, leather goods': 3, 'shoes': 4, 'accessories (jewelry, clothing accessories, belts, hats, scarves, etc.)': 5, 'snacks, nuts, liquor and tea': 6, 'makeup, perfume, beauty tools and essential oils': 7, 'bottle drink': 8, 'furniture': 9, 'stationery': 10, 'household electrical appliances': 11, 'home decoration': 12, 'household fabric': 13, 'kitchenware': 14, 'home / personal cleaning tools': 15, 'storage supplies': 16, 'motorcycle, motorcycle accessories, vehicles, bicycle and riding equipment': 17, 'outdoor product': 18, 'lighting': 19, 'toys': 20, 'underwear': 21, 'digital supplies': 22, 'bed linens': 23, 'baby products': 24, 'personal care': 25, 'sporting goods': 26, 'clothes (accessories, baby clothing, etc.)': 27, 'others': 28, 'human face': 29, 'arm': 30, 'hair': 31, 'hand': 32}\n"
     ]
    }
   ],
   "source": [
    "print(id2label, label2id)"
   ]
  },
  {
   "cell_type": "code",
   "execution_count": 28,
   "metadata": {},
   "outputs": [],
   "source": [
    "def convertBoxes(num_boxes, boxes):\n",
    "    return np.frombuffer(base64.b64decode(boxes), dtype=np.float32).reshape(num_boxes, 4)\n",
    "def convertFeature(num_boxes, features,):\n",
    "    return np.frombuffer(base64.b64decode(features), dtype=np.float32).reshape(num_boxes, 2048)\n",
    "def convertLabel(num_boxes, label):\n",
    "    return np.frombuffer(base64.b64decode(label), dtype=np.int64).reshape(num_boxes)\n",
    "def convertLabelWord(num_boxes, label):\n",
    "    temp = np.frombuffer(base64.b64decode(label), dtype=np.int64).reshape(num_boxes)\n",
    "    return '###'.join([id2label[t] for t in temp])\n",
    "def convertPos(num_boxes, boxes, H, W):\n",
    "    pos_list = []\n",
    "    for i in range(num_boxes):\n",
    "        temp = boxes[i]\n",
    "        pos_list.append([temp[0]/W, \n",
    "                         temp[2]/W, \n",
    "                         temp[1]/H, \n",
    "                         temp[3]/H, \n",
    "                         ((temp[2] - temp[0]) * (temp[3] - temp[1]))/ (W*H),])\n",
    "    return pos_list"
   ]
  },
  {
   "cell_type": "code",
   "execution_count": 29,
   "metadata": {},
   "outputs": [],
   "source": [
    "train = pd.read_csv(TRAIN_PATH,sep='\\t', chunksize=10000, nrows = 10000, quoting=csv.QUOTE_NONE)\n",
    "LEN = 0\n",
    "product_set = set()\n",
    "num_boxes_list = []\n",
    "image_h_list = []\n",
    "image_w_list = []\n",
    "words_len_list = []\n",
    "words_list = []\n",
    "label_list = []\n",
    "label_words_list = []\n",
    "boxes_list = []\n",
    "boxes_feature_list = []\n",
    "pos_list = []"
   ]
  },
  {
   "cell_type": "code",
   "execution_count": 30,
   "metadata": {},
   "outputs": [
    {
     "name": "stderr",
     "output_type": "stream",
     "text": [
      "0it [00:00, ?it/s]"
     ]
    },
    {
     "name": "stdout",
     "output_type": "stream",
     "text": [
      "starting\n"
     ]
    },
    {
     "data": {
      "application/vnd.jupyter.widget-view+json": {
       "model_id": "953a0987851349ce851de369c4f8554d",
       "version_major": 2,
       "version_minor": 0
      },
      "text/plain": [
       "HBox(children=(FloatProgress(value=0.0, description='Pandas Apply', max=10000.0, style=ProgressStyle(descripti…"
      ]
     },
     "metadata": {},
     "output_type": "display_data"
    },
    {
     "name": "stdout",
     "output_type": "stream",
     "text": [
      "\n"
     ]
    },
    {
     "data": {
      "application/vnd.jupyter.widget-view+json": {
       "model_id": "4e12bc1865674de5be30c78ef02c6e37",
       "version_major": 2,
       "version_minor": 0
      },
      "text/plain": [
       "HBox(children=(FloatProgress(value=0.0, description='Pandas Apply', max=10000.0, style=ProgressStyle(descripti…"
      ]
     },
     "metadata": {},
     "output_type": "display_data"
    },
    {
     "name": "stdout",
     "output_type": "stream",
     "text": [
      "\n"
     ]
    },
    {
     "data": {
      "application/vnd.jupyter.widget-view+json": {
       "model_id": "7202d7805807456aa6f19945d9107326",
       "version_major": 2,
       "version_minor": 0
      },
      "text/plain": [
       "HBox(children=(FloatProgress(value=0.0, description='Pandas Apply', max=10000.0, style=ProgressStyle(descripti…"
      ]
     },
     "metadata": {},
     "output_type": "display_data"
    },
    {
     "name": "stdout",
     "output_type": "stream",
     "text": [
      "\n"
     ]
    },
    {
     "data": {
      "application/vnd.jupyter.widget-view+json": {
       "model_id": "d4d4e49d80cc45af8ba7279e6bb83822",
       "version_major": 2,
       "version_minor": 0
      },
      "text/plain": [
       "HBox(children=(FloatProgress(value=0.0, description='Pandas Apply', max=10000.0, style=ProgressStyle(descripti…"
      ]
     },
     "metadata": {},
     "output_type": "display_data"
    },
    {
     "name": "stdout",
     "output_type": "stream",
     "text": [
      "\n"
     ]
    },
    {
     "name": "stderr",
     "output_type": "stream",
     "text": [
      "1it [01:17, 77.11s/it]\n"
     ]
    }
   ],
   "source": [
    "i = 0\n",
    "for t in tqdm(train):\n",
    "    print(\"starting\")\n",
    "    gc.collect()\n",
    "    sleep(1)\n",
    "    LEN += len(t)\n",
    "    temp = list(t['query'])\n",
    "    words_len_list.extend([len(q.split()) for q in temp])\n",
    "    words_list.extend(temp)\n",
    "    t['labels_convert_words'] = t.swifter.apply(lambda x: convertLabelWord(x['num_boxes'], x['class_labels']), axis=1)\n",
    "    temp = list(t['labels_convert_words'])\n",
    "    label_words_list.extend(temp)\n",
    "    t['boxes_convert'] = t.swifter.apply(lambda x: convertBoxes(x['num_boxes'], x['boxes']), axis=1)\n",
    "    temp = list(t['boxes_convert'])\n",
    "    boxes_list.extend(temp)\n",
    "    t['feature_convert'] = t.swifter.apply(lambda x: convertFeature(x['num_boxes'], x['features']), axis=1)\n",
    "    temp = list(t['feature_convert'])\n",
    "    boxes_feature_list.extend(temp)\n",
    "    t['pos'] = t.swifter.apply(lambda x: convertPos(x['num_boxes'], x['boxes_convert'], x['image_h'], x['image_w']), axis=1)\n",
    "    temp = list(t['pos'])\n",
    "    pos_list.extend(temp)\n",
    "    del temp\n",
    "    gc.collect()\n",
    "    sleep(60)\n",
    "    i += 1"
   ]
  },
  {
   "cell_type": "code",
   "execution_count": 31,
   "metadata": {},
   "outputs": [
    {
     "name": "stdout",
     "output_type": "stream",
     "text": [
      "10000 0\n"
     ]
    }
   ],
   "source": [
    "print(LEN, len(product_set))"
   ]
  },
  {
   "cell_type": "code",
   "execution_count": 32,
   "metadata": {},
   "outputs": [],
   "source": [
    "data = pd.DataFrame({\n",
    "                     'words':words_list,\n",
    "                     'label_words':label_words_list,\n",
    "                     'features':boxes_feature_list,\n",
    "                     'pos':pos_list,\n",
    "                    })"
   ]
  },
  {
   "cell_type": "code",
   "execution_count": 33,
   "metadata": {},
   "outputs": [
    {
     "name": "stdout",
     "output_type": "stream",
     "text": [
      "                              words  \\\n",
      "0               treble popular reed   \n",
      "1         compatible ink cartridges   \n",
      "2       check new look facial cream   \n",
      "3         royal commemorative stamp   \n",
      "4         calendula baby shower gel   \n",
      "5            domestic folding table   \n",
      "6  chamomile beauty salon care suit   \n",
      "7           hypoallergenic earrings   \n",
      "8               produce special soy   \n",
      "9          metalworking mini hammer   \n",
      "\n",
      "                                         label_words  \\\n",
      "0                                    others###others   \n",
      "1                                             others   \n",
      "2   makeup, perfume, beauty tools and essential oils   \n",
      "3         others###others###others###others###others   \n",
      "4  others###snacks, nuts, liquor and tea###snacks...   \n",
      "5                                          furniture   \n",
      "6   makeup, perfume, beauty tools and essential oils   \n",
      "7  accessories (jewelry, clothing accessories, be...   \n",
      "8                           others###others###others   \n",
      "9  others###others###accessories (jewelry, clothi...   \n",
      "\n",
      "                                            features  \\\n",
      "0  [[0.0, 0.0, 6.0378604, 0.0, 0.037252333, 0.0, ...   \n",
      "1  [[0.0, 0.015551143, 1.4977295, 0.0, 0.03303502...   \n",
      "2  [[0.0, 0.0, 0.81766355, 0.0, 0.02573972, 0.0, ...   \n",
      "3  [[0.0, 0.0, 0.0, 0.0, 0.24994667, 0.0, 0.0, 0....   \n",
      "4  [[0.0, 0.014258672, 0.02542738, 0.0, 0.0, 0.0,...   \n",
      "5  [[0.0, 0.0, 1.597945, 0.0, 0.33240697, 0.0, 0....   \n",
      "6  [[0.0, 0.0, 1.6070871, 0.0, 0.01832278, 0.0, 0...   \n",
      "7  [[0.0, 0.0, 0.6098879, 0.0, 0.12692393, 0.0, 0...   \n",
      "8  [[0.0, 0.0, 0.0, 0.0, 0.15458316, 0.0, 0.0, 0....   \n",
      "9  [[0.0, 0.020893136, 0.0, 0.0, 0.9696981, 0.0, ...   \n",
      "\n",
      "                                                 pos  \n",
      "0  [[0.0, 1.6172248803827751, 0.00887573964497041...  \n",
      "1  [[0.08196721311475409, 1.2295081967213115, 0.0...  \n",
      "2  [[0.05733333333333333, 0.8773333333333333, 0.3...  \n",
      "3  [[0.390625, 0.65, 0.8770833333333333, 1.322916...  \n",
      "4  [[0.1725, 0.895, 0.32125, 0.675, 0.255584375],...  \n",
      "5  [[0.02406417112299465, 0.8877005347593583, 0.0...  \n",
      "6  [[0.016129032258064516, 0.8774193548387097, 0....  \n",
      "7  [[0.3275, 0.525, 0.385, 0.57, 0.0365375], [0.6...  \n",
      "8  [[0.08666666666666667, 0.44166666666666665, 0....  \n",
      "9  [[0.13375, 0.71, 0.3060921248142645, 1.0787518...  \n"
     ]
    }
   ],
   "source": [
    "print(data.head(10))"
   ]
  },
  {
   "cell_type": "code",
   "execution_count": 34,
   "metadata": {},
   "outputs": [
    {
     "name": "stdout",
     "output_type": "stream",
     "text": [
      "temp data finish\n"
     ]
    }
   ],
   "source": [
    "with open('../data/temp_data.pkl', 'wb') as outp:\n",
    "    joblib.dump(data, outp)\n",
    "print(\"temp data finish\")"
   ]
  },
  {
   "cell_type": "code",
   "execution_count": 35,
   "metadata": {},
   "outputs": [
    {
     "name": "stderr",
     "output_type": "stream",
     "text": [
      "C:\\Users\\funny\\anaconda3\\lib\\site-packages\\tqdm\\std.py:658: FutureWarning: The Panel class is removed from pandas. Accessing it from the top-level namespace will also be removed in the next version\n",
      "  from pandas import Panel\n"
     ]
    },
    {
     "data": {
      "application/vnd.jupyter.widget-view+json": {
       "model_id": "cd27af2e5cb14a798302c0e261b7b00d",
       "version_major": 2,
       "version_minor": 0
      },
      "text/plain": [
       "HBox(children=(FloatProgress(value=0.0, description='Pandas Apply', max=14720.0, style=ProgressStyle(descripti…"
      ]
     },
     "metadata": {},
     "output_type": "display_data"
    },
    {
     "name": "stdout",
     "output_type": "stream",
     "text": [
      "\n"
     ]
    },
    {
     "data": {
      "application/vnd.jupyter.widget-view+json": {
       "model_id": "037d2178229d4414a1c2635f77bce70b",
       "version_major": 2,
       "version_minor": 0
      },
      "text/plain": [
       "HBox(children=(FloatProgress(value=0.0, description='Pandas Apply', max=14720.0, style=ProgressStyle(descripti…"
      ]
     },
     "metadata": {},
     "output_type": "display_data"
    },
    {
     "name": "stdout",
     "output_type": "stream",
     "text": [
      "\n"
     ]
    },
    {
     "data": {
      "application/vnd.jupyter.widget-view+json": {
       "model_id": "83f3f6e85b8b45b38766ad0bdbf862f6",
       "version_major": 2,
       "version_minor": 0
      },
      "text/plain": [
       "HBox(children=(FloatProgress(value=0.0, description='Pandas Apply', max=14720.0, style=ProgressStyle(descripti…"
      ]
     },
     "metadata": {},
     "output_type": "display_data"
    },
    {
     "name": "stdout",
     "output_type": "stream",
     "text": [
      "\n"
     ]
    },
    {
     "data": {
      "application/vnd.jupyter.widget-view+json": {
       "model_id": "a5d2b1c310074698b73d1e4a9811b84c",
       "version_major": 2,
       "version_minor": 0
      },
      "text/plain": [
       "HBox(children=(FloatProgress(value=0.0, description='Pandas Apply', max=14720.0, style=ProgressStyle(descripti…"
      ]
     },
     "metadata": {},
     "output_type": "display_data"
    },
    {
     "name": "stdout",
     "output_type": "stream",
     "text": [
      "\n"
     ]
    },
    {
     "data": {
      "application/vnd.jupyter.widget-view+json": {
       "model_id": "3e2fcce376dd44c3b63b1d9b714f293c",
       "version_major": 2,
       "version_minor": 0
      },
      "text/plain": [
       "HBox(children=(FloatProgress(value=0.0, description='Pandas Apply', max=14720.0, style=ProgressStyle(descripti…"
      ]
     },
     "metadata": {},
     "output_type": "display_data"
    },
    {
     "name": "stdout",
     "output_type": "stream",
     "text": [
      "\n",
      "val data finish\n"
     ]
    }
   ],
   "source": [
    "val = pd.read_csv(VAL_PATH,sep='\\t')\n",
    "val['boxes_convert'] = val.swifter.apply(lambda x: convertBoxes(x['num_boxes'], x['boxes']), axis=1)\n",
    "val['feature_convert'] = val.swifter.apply(lambda x: convertFeature(x['num_boxes'], x['features']), axis=1)\n",
    "val['labels_convert'] = val.swifter.apply(lambda x: convertLabel(x['num_boxes'], x['class_labels']), axis=1)\n",
    "val['label_words'] = val.swifter.apply(lambda x: convertLabelWord(x['num_boxes'], x['class_labels']), axis=1)\n",
    "val['pos'] = val.swifter.apply(lambda x: convertPos(x['num_boxes'], x['boxes_convert'], x['image_h'], x['image_w']), axis=1)\n",
    "del val['boxes'], val['features'], val['class_labels']    \n",
    "with open('../data/val_data.pkl', 'wb') as outp:\n",
    "    pickle.dump(val, outp)             \n",
    "print(\"val data finish\")"
   ]
  },
  {
   "cell_type": "code",
   "execution_count": 36,
   "metadata": {},
   "outputs": [
    {
     "data": {
      "application/vnd.jupyter.widget-view+json": {
       "model_id": "245aa6f072ba428ea7a439cf2e04573a",
       "version_major": 2,
       "version_minor": 0
      },
      "text/plain": [
       "HBox(children=(FloatProgress(value=0.0, description='Pandas Apply', max=28830.0, style=ProgressStyle(descripti…"
      ]
     },
     "metadata": {},
     "output_type": "display_data"
    },
    {
     "name": "stdout",
     "output_type": "stream",
     "text": [
      "\n"
     ]
    },
    {
     "data": {
      "application/vnd.jupyter.widget-view+json": {
       "model_id": "b095aeff27684d5a98aad7d7a68e0e69",
       "version_major": 2,
       "version_minor": 0
      },
      "text/plain": [
       "HBox(children=(FloatProgress(value=0.0, description='Pandas Apply', max=28830.0, style=ProgressStyle(descripti…"
      ]
     },
     "metadata": {},
     "output_type": "display_data"
    },
    {
     "name": "stdout",
     "output_type": "stream",
     "text": [
      "\n"
     ]
    },
    {
     "data": {
      "application/vnd.jupyter.widget-view+json": {
       "model_id": "7412a9a8d6f74864bdfb87eda56d2343",
       "version_major": 2,
       "version_minor": 0
      },
      "text/plain": [
       "HBox(children=(FloatProgress(value=0.0, description='Pandas Apply', max=28830.0, style=ProgressStyle(descripti…"
      ]
     },
     "metadata": {},
     "output_type": "display_data"
    },
    {
     "name": "stdout",
     "output_type": "stream",
     "text": [
      "\n"
     ]
    },
    {
     "data": {
      "application/vnd.jupyter.widget-view+json": {
       "model_id": "2a977072dc5f4f46b1161ba4311d35cf",
       "version_major": 2,
       "version_minor": 0
      },
      "text/plain": [
       "HBox(children=(FloatProgress(value=0.0, description='Pandas Apply', max=28830.0, style=ProgressStyle(descripti…"
      ]
     },
     "metadata": {},
     "output_type": "display_data"
    },
    {
     "name": "stdout",
     "output_type": "stream",
     "text": [
      "\n"
     ]
    },
    {
     "data": {
      "application/vnd.jupyter.widget-view+json": {
       "model_id": "36309dc9eb1242b68e11dffef4e3688f",
       "version_major": 2,
       "version_minor": 0
      },
      "text/plain": [
       "HBox(children=(FloatProgress(value=0.0, description='Pandas Apply', max=28830.0, style=ProgressStyle(descripti…"
      ]
     },
     "metadata": {},
     "output_type": "display_data"
    },
    {
     "name": "stdout",
     "output_type": "stream",
     "text": [
      "\n",
      "test data finish\n"
     ]
    }
   ],
   "source": [
    "test = pd.read_csv(TEST_PATH,sep='\\t')\n",
    "test['boxes_convert'] = test.swifter.apply(lambda x: convertBoxes(x['num_boxes'], x['boxes']), axis=1)\n",
    "test['feature_convert'] = test.swifter.apply(lambda x: convertFeature(x['num_boxes'], x['features']), axis=1)\n",
    "test['labels_convert'] = test.swifter.apply(lambda x: convertLabel(x['num_boxes'], x['class_labels']), axis=1)\n",
    "test['label_words'] = test.swifter.apply(lambda x: convertLabelWord(x['num_boxes'], x['class_labels']), axis=1)\n",
    "test['pos'] = test.swifter.apply(lambda x: convertPos(x['num_boxes'], x['boxes_convert'], x['image_h'], x['image_w']), axis=1)\n",
    "del test['boxes'], test['features'], test['class_labels']\n",
    "with open('../data/test_data.pkl', 'wb') as outp:\n",
    "    pickle.dump(test, outp)\n",
    "print(\"test data finish\")"
   ]
  },
  {
   "cell_type": "code",
   "execution_count": null,
   "metadata": {},
   "outputs": [],
   "source": []
  }
 ],
 "metadata": {
  "kernelspec": {
   "display_name": "Python 3",
   "language": "python",
   "name": "python3"
  },
  "language_info": {
   "codemirror_mode": {
    "name": "ipython",
    "version": 3
   },
   "file_extension": ".py",
   "mimetype": "text/x-python",
   "name": "python",
   "nbconvert_exporter": "python",
   "pygments_lexer": "ipython3",
   "version": "3.7.6"
  }
 },
 "nbformat": 4,
 "nbformat_minor": 2
}
